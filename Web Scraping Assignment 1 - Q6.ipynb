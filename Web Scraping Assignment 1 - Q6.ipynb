{
 "cells": [
  {
   "cell_type": "markdown",
   "metadata": {},
   "source": [
    "# Q6 - Write a python program to scrape cricket rankings from ‘www.icc-cricket.com’. You have to scrape:\n",
    "\n",
    "i) Top 10 ODI teams in women’s cricket along with the records for matches, points and rating.\n",
    "\n",
    "ii) Top 10 women’s ODI players along with the records of their team and rating.\n",
    "\n",
    "iii) Top 10 women’s ODI all-rounder along with the records of their team and rating."
   ]
  },
  {
   "cell_type": "markdown",
   "metadata": {},
   "source": [
    "# Installing Required Libraries for Web Scraping"
   ]
  },
  {
   "cell_type": "code",
   "execution_count": 1,
   "metadata": {},
   "outputs": [
    {
     "name": "stdout",
     "output_type": "stream",
     "text": [
      "Requirement already satisfied: bs4 in c:\\users\\aditya\\anaconda3\\lib\\site-packages (0.0.1)\n",
      "Requirement already satisfied: beautifulsoup4 in c:\\users\\aditya\\anaconda3\\lib\\site-packages (from bs4) (4.9.1)\n",
      "Requirement already satisfied: soupsieve>1.2 in c:\\users\\aditya\\anaconda3\\lib\\site-packages (from beautifulsoup4->bs4) (2.0.1)\n",
      "Requirement already satisfied: requests in c:\\users\\aditya\\anaconda3\\lib\\site-packages (2.24.0)\n",
      "Requirement already satisfied: urllib3!=1.25.0,!=1.25.1,<1.26,>=1.21.1 in c:\\users\\aditya\\anaconda3\\lib\\site-packages (from requests) (1.25.9)\n",
      "Requirement already satisfied: certifi>=2017.4.17 in c:\\users\\aditya\\anaconda3\\lib\\site-packages (from requests) (2020.6.20)\n",
      "Requirement already satisfied: idna<3,>=2.5 in c:\\users\\aditya\\anaconda3\\lib\\site-packages (from requests) (2.10)\n",
      "Requirement already satisfied: chardet<4,>=3.0.2 in c:\\users\\aditya\\anaconda3\\lib\\site-packages (from requests) (3.0.4)\n"
     ]
    }
   ],
   "source": [
    "!pip install bs4\n",
    "!pip install requests"
   ]
  },
  {
   "cell_type": "markdown",
   "metadata": {},
   "source": [
    "# Importing BeautifulSoup for Web Scraping"
   ]
  },
  {
   "cell_type": "code",
   "execution_count": 2,
   "metadata": {},
   "outputs": [],
   "source": [
    "from bs4 import BeautifulSoup\n",
    "import requests"
   ]
  },
  {
   "cell_type": "markdown",
   "metadata": {},
   "source": [
    "# Web Scraping for Top 10 ODI Teams Ranking in Men's Cricket"
   ]
  },
  {
   "cell_type": "code",
   "execution_count": 3,
   "metadata": {},
   "outputs": [
    {
     "data": {
      "text/plain": [
       "<Response [200]>"
      ]
     },
     "execution_count": 3,
     "metadata": {},
     "output_type": "execute_result"
    }
   ],
   "source": [
    "ICC_womens = requests.get(\"https://www.icc-cricket.com/rankings/womens/team-rankings/odi\")\n",
    "ICC_womens"
   ]
  },
  {
   "cell_type": "markdown",
   "metadata": {},
   "source": [
    "Request Approved"
   ]
  },
  {
   "cell_type": "code",
   "execution_count": 4,
   "metadata": {},
   "outputs": [],
   "source": [
    "cric_w_soup = BeautifulSoup(ICC_womens.content,'html.parser')"
   ]
  },
  {
   "cell_type": "code",
   "execution_count": 5,
   "metadata": {},
   "outputs": [
    {
     "data": {
      "text/plain": [
       "['Australia',\n",
       " 'South Africa',\n",
       " 'England',\n",
       " 'India',\n",
       " 'New Zealand',\n",
       " 'West Indies',\n",
       " 'Pakistan',\n",
       " 'Bangladesh',\n",
       " 'Sri Lanka',\n",
       " 'Ireland']"
      ]
     },
     "execution_count": 5,
     "metadata": {},
     "output_type": "execute_result"
    }
   ],
   "source": [
    "w_team = cric_w_soup.find_all(['span'], class_ = \"u-hide-phablet\")\n",
    "ODI_w_Team = []\n",
    "\n",
    "for i in w_team:\n",
    "    ODI_w_Team.append(i.text.replace(\"\\n\",\"\"))\n",
    "ODI_w_Team= ODI_w_Team[:10]\n",
    "ODI_w_Team"
   ]
  },
  {
   "cell_type": "code",
   "execution_count": 6,
   "metadata": {},
   "outputs": [],
   "source": [
    "w_title = cric_w_soup.find_all(['span'], class_ = \"u-hide-mobile\")\n",
    "Title_w = []\n",
    "\n",
    "for i in w_title:\n",
    "    Title_w.append(i.text.replace(\"\\n\",\"\"))\n",
    "    \n",
    "w_Mat = cric_w_soup.find_all(['td'], class_ = \"rankings-block__banner--matches\")\n",
    "w_Matches= []\n",
    "for i in w_Mat:\n",
    "    w_Matches.append(i.text.replace(\"\\n\",\"\"))\n",
    " \n",
    "w_pts = cric_w_soup.find_all(['td'], class_ = \"rankings-block__banner--points\")\n",
    "w_Points= []\n",
    "for i in w_pts:\n",
    "    w_Points.append(i.text.replace(\"\\n\",\"\"))\n"
   ]
  },
  {
   "cell_type": "code",
   "execution_count": 7,
   "metadata": {},
   "outputs": [],
   "source": [
    "w_rtg = cric_w_soup.find_all(['td'], class_ = \"rankings-block__banner--rating u-text-right\")\n",
    "w_Ratings= []\n",
    "for i in w_rtg:\n",
    "    w_Ratings.append(i.text.replace(\"\\n\",\"\"))\n",
    "w_Ratings= [i.split('                            ')[1]for i in w_Ratings ] \n",
    "\n",
    "w_stat = cric_w_soup.find_all(['td'], class_ = \"table-body__cell u-center-text\")\n",
    "w_Stats = []\n",
    "\n",
    "for i in w_stat:\n",
    "    w_Stats.append(i.text.replace(\"\\n\",\"\"))\n",
    "    \n",
    "    \n",
    "for i in range(0,len(w_Stats)):\n",
    "    if i == 0 or  i/2 == i//2:\n",
    "        w_Matches.append(w_Stats[i])    \n",
    "    else:\n",
    "        w_Points.append(w_Stats[i])\n",
    "        \n",
    "w_Points = w_Points[:10]\n",
    "w_Matches= w_Matches[:10]\n",
    "\n",
    "w_rat = cric_w_soup.find_all(['td'], class_ = \"table-body__cell u-text-right rating\")\n",
    "\n",
    "for i in w_rat:\n",
    "    w_Ratings.append(i.text.replace(\"\\n\",\"\"))\n",
    "w_Ratings= w_Ratings[:10]"
   ]
  },
  {
   "cell_type": "code",
   "execution_count": 9,
   "metadata": {},
   "outputs": [
    {
     "data": {
      "text/html": [
       "<div>\n",
       "<style scoped>\n",
       "    .dataframe tbody tr th:only-of-type {\n",
       "        vertical-align: middle;\n",
       "    }\n",
       "\n",
       "    .dataframe tbody tr th {\n",
       "        vertical-align: top;\n",
       "    }\n",
       "\n",
       "    .dataframe thead th {\n",
       "        text-align: right;\n",
       "    }\n",
       "</style>\n",
       "<table border=\"1\" class=\"dataframe\">\n",
       "  <thead>\n",
       "    <tr style=\"text-align: right;\">\n",
       "      <th></th>\n",
       "      <th>Team</th>\n",
       "      <th>Matches</th>\n",
       "      <th>Points</th>\n",
       "      <th>Rating</th>\n",
       "    </tr>\n",
       "  </thead>\n",
       "  <tbody>\n",
       "    <tr>\n",
       "      <th>0</th>\n",
       "      <td>Australia</td>\n",
       "      <td>15</td>\n",
       "      <td>2,436</td>\n",
       "      <td>162</td>\n",
       "    </tr>\n",
       "    <tr>\n",
       "      <th>1</th>\n",
       "      <td>South Africa</td>\n",
       "      <td>24</td>\n",
       "      <td>2,828</td>\n",
       "      <td>118</td>\n",
       "    </tr>\n",
       "    <tr>\n",
       "      <th>2</th>\n",
       "      <td>England</td>\n",
       "      <td>17</td>\n",
       "      <td>1,993</td>\n",
       "      <td>117</td>\n",
       "    </tr>\n",
       "    <tr>\n",
       "      <th>3</th>\n",
       "      <td>India</td>\n",
       "      <td>20</td>\n",
       "      <td>2,226</td>\n",
       "      <td>111</td>\n",
       "    </tr>\n",
       "    <tr>\n",
       "      <th>4</th>\n",
       "      <td>New Zealand</td>\n",
       "      <td>18</td>\n",
       "      <td>1,696</td>\n",
       "      <td>94</td>\n",
       "    </tr>\n",
       "    <tr>\n",
       "      <th>5</th>\n",
       "      <td>West Indies</td>\n",
       "      <td>12</td>\n",
       "      <td>1,025</td>\n",
       "      <td>85</td>\n",
       "    </tr>\n",
       "    <tr>\n",
       "      <th>6</th>\n",
       "      <td>Pakistan</td>\n",
       "      <td>15</td>\n",
       "      <td>1,101</td>\n",
       "      <td>73</td>\n",
       "    </tr>\n",
       "    <tr>\n",
       "      <th>7</th>\n",
       "      <td>Bangladesh</td>\n",
       "      <td>5</td>\n",
       "      <td>306</td>\n",
       "      <td>61</td>\n",
       "    </tr>\n",
       "    <tr>\n",
       "      <th>8</th>\n",
       "      <td>Sri Lanka</td>\n",
       "      <td>11</td>\n",
       "      <td>519</td>\n",
       "      <td>47</td>\n",
       "    </tr>\n",
       "    <tr>\n",
       "      <th>9</th>\n",
       "      <td>Ireland</td>\n",
       "      <td>2</td>\n",
       "      <td>25</td>\n",
       "      <td>13</td>\n",
       "    </tr>\n",
       "  </tbody>\n",
       "</table>\n",
       "</div>"
      ],
      "text/plain": [
       "           Team Matches Points Rating\n",
       "0     Australia      15  2,436    162\n",
       "1  South Africa      24  2,828    118\n",
       "2       England      17  1,993    117\n",
       "3         India      20  2,226    111\n",
       "4   New Zealand      18  1,696     94\n",
       "5   West Indies      12  1,025     85\n",
       "6      Pakistan      15  1,101     73\n",
       "7    Bangladesh       5    306     61\n",
       "8     Sri Lanka      11    519     47\n",
       "9       Ireland       2     25     13"
      ]
     },
     "execution_count": 9,
     "metadata": {},
     "output_type": "execute_result"
    }
   ],
   "source": [
    "import pandas as pd\n",
    "ODI_TOP_10_womens = pd.DataFrame({Title_w[0]:ODI_w_Team, Title_w[1]:w_Matches, Title_w[2]: w_Points, Title_w[3]: w_Ratings})\n",
    "\n",
    "ODI_TOP_10_womens"
   ]
  },
  {
   "cell_type": "markdown",
   "metadata": {},
   "source": [
    "# Top 10 ODI Batsmen and Allrounders"
   ]
  },
  {
   "cell_type": "code",
   "execution_count": 10,
   "metadata": {},
   "outputs": [
    {
     "data": {
      "text/plain": [
       "<Response [200]>"
      ]
     },
     "execution_count": 10,
     "metadata": {},
     "output_type": "execute_result"
    }
   ],
   "source": [
    "ICC_Wom = requests.get(\"https://www.icc-cricket.com/rankings/womens/player-rankings/odi\")\n",
    "ICC_Wom"
   ]
  },
  {
   "cell_type": "code",
   "execution_count": 11,
   "metadata": {},
   "outputs": [],
   "source": [
    "player_w_soup = BeautifulSoup(ICC_Wom.content,'html.parser')"
   ]
  },
  {
   "cell_type": "code",
   "execution_count": 12,
   "metadata": {},
   "outputs": [
    {
     "data": {
      "text/plain": [
       "['Lizelle Lee', 'Jess Jonassen', 'Ellyse Perry']"
      ]
     },
     "execution_count": 12,
     "metadata": {},
     "output_type": "execute_result"
    }
   ],
   "source": [
    "nam_w = player_w_soup.find_all(['div'], class_ = \"rankings-block__banner--name\")\n",
    "banner_name_w = []\n",
    "\n",
    "for i in nam_w:\n",
    "    banner_name_w.append(i.text.replace(\"\\n\",\"\"))\n",
    "banner_name_w"
   ]
  },
  {
   "cell_type": "code",
   "execution_count": 13,
   "metadata": {},
   "outputs": [],
   "source": [
    "nat_w = player_w_soup.find_all(['div'], class_ = \"rankings-block__banner--nationality\")\n",
    "natt_w = []\n",
    "\n",
    "for i in nat_w:\n",
    "    natt_w.append(i.text.replace(\"\\n\",\"\"))\n",
    "\n",
    "rat_w = player_w_soup.find_all(['div'], class_ = \"rankings-block__banner--rating\")\n",
    "ratt_w = []\n",
    "\n",
    "for i in rat_w:\n",
    "    ratt_w.append(i.text.replace(\"\\n\",\"\"))\n",
    "    \n",
    "Batsman_name_w=[banner_name_w[0]]\n",
    "Batsman_nation_w= [natt_w[0]]\n",
    "Batsman_Rattings_w= [ratt_w[0]]\n",
    "allrounder_name_w= [banner_name_w[-1]]\n",
    "allrounder_nation_w= [natt_w[-1]]\n",
    "allrounder_Rattings_w= [ratt_w[-1]]    \n",
    "\n",
    "Nam_w = player_w_soup.find_all(['td'], class_ = \"table-body__cell name\")\n",
    "table_names_w = []\n",
    "for i in Nam_w:\n",
    "    table_names_w.append(i.text.replace(\"\\n\",\"\"))\n",
    "\n",
    "\n",
    "nat1_w = player_w_soup.find_all(['span'], class_ = \"table-body__logo-text\")\n",
    "Nat1_w = []\n",
    "for i in nat1_w:\n",
    "    Nat1_w.append(i.text.replace(\"\\n\",\"\"))\n",
    "\n",
    "rat1_w = player_w_soup.find_all(['td'], class_ = \"table-body__cell u-text-right rating\")\n",
    "Rat1_w = []\n",
    "for i in rat1_w:\n",
    "    Rat1_w.append(i.text.replace(\"\\n\",\"\"))\n",
    "\n",
    "\n",
    "for i in table_names_w[0:9]:\n",
    "    Batsman_name_w.append(i)\n",
    "for i in Nat1_w[0:9]:\n",
    "    Batsman_nation_w.append(i)\n",
    "for i in Rat1_w[0:9]:\n",
    "    Batsman_Rattings_w.append(i)    \n",
    "for i in table_names_w[18:27]:\n",
    "    allrounder_name_w.append(i)\n",
    "for i in Nat1_w[18:27]:\n",
    "    allrounder_nation_w.append(i)\n",
    "for i in Rat1_w[18:27]:\n",
    "    allrounder_Rattings_w.append(i)"
   ]
  },
  {
   "cell_type": "code",
   "execution_count": 14,
   "metadata": {},
   "outputs": [],
   "source": [
    "ODI_TOP_10_Batsman_w = pd.DataFrame({\"Batsman_name_W\":Batsman_name_w, \"Batsman_nation_w\":Batsman_nation_w, \n",
    "                                     \"Batsman_Rattings_w\": Batsman_Rattings_w})\n",
    "ODI_TOP_10_allrounder_w = pd.DataFrame({\"allrounder_name_w\":allrounder_name_w, \"allrounder_nation_w\":allrounder_nation_w,\n",
    "                                        \"allrounder_Rattings_w\": allrounder_Rattings_w})"
   ]
  },
  {
   "cell_type": "code",
   "execution_count": 15,
   "metadata": {},
   "outputs": [
    {
     "data": {
      "text/html": [
       "<div>\n",
       "<style scoped>\n",
       "    .dataframe tbody tr th:only-of-type {\n",
       "        vertical-align: middle;\n",
       "    }\n",
       "\n",
       "    .dataframe tbody tr th {\n",
       "        vertical-align: top;\n",
       "    }\n",
       "\n",
       "    .dataframe thead th {\n",
       "        text-align: right;\n",
       "    }\n",
       "</style>\n",
       "<table border=\"1\" class=\"dataframe\">\n",
       "  <thead>\n",
       "    <tr style=\"text-align: right;\">\n",
       "      <th></th>\n",
       "      <th>Batsman_name_W</th>\n",
       "      <th>Batsman_nation_w</th>\n",
       "      <th>Batsman_Rattings_w</th>\n",
       "    </tr>\n",
       "  </thead>\n",
       "  <tbody>\n",
       "    <tr>\n",
       "      <th>0</th>\n",
       "      <td>Lizelle Lee</td>\n",
       "      <td>SA</td>\n",
       "      <td>773</td>\n",
       "    </tr>\n",
       "    <tr>\n",
       "      <th>1</th>\n",
       "      <td>Tammy Beaumont</td>\n",
       "      <td>ENG</td>\n",
       "      <td>765</td>\n",
       "    </tr>\n",
       "    <tr>\n",
       "      <th>2</th>\n",
       "      <td>Meg Lanning</td>\n",
       "      <td>AUS</td>\n",
       "      <td>749</td>\n",
       "    </tr>\n",
       "    <tr>\n",
       "      <th>3</th>\n",
       "      <td>Stafanie Taylor</td>\n",
       "      <td>WI</td>\n",
       "      <td>746</td>\n",
       "    </tr>\n",
       "    <tr>\n",
       "      <th>4</th>\n",
       "      <td>Alyssa Healy</td>\n",
       "      <td>AUS</td>\n",
       "      <td>741</td>\n",
       "    </tr>\n",
       "    <tr>\n",
       "      <th>5</th>\n",
       "      <td>Amy Satterthwaite</td>\n",
       "      <td>NZ</td>\n",
       "      <td>740</td>\n",
       "    </tr>\n",
       "    <tr>\n",
       "      <th>6</th>\n",
       "      <td>Smriti Mandhana</td>\n",
       "      <td>IND</td>\n",
       "      <td>719</td>\n",
       "    </tr>\n",
       "    <tr>\n",
       "      <th>7</th>\n",
       "      <td>Laura Wolvaardt</td>\n",
       "      <td>SA</td>\n",
       "      <td>699</td>\n",
       "    </tr>\n",
       "    <tr>\n",
       "      <th>8</th>\n",
       "      <td>Mithali Raj</td>\n",
       "      <td>IND</td>\n",
       "      <td>693</td>\n",
       "    </tr>\n",
       "    <tr>\n",
       "      <th>9</th>\n",
       "      <td>Ellyse Perry</td>\n",
       "      <td>AUS</td>\n",
       "      <td>691</td>\n",
       "    </tr>\n",
       "  </tbody>\n",
       "</table>\n",
       "</div>"
      ],
      "text/plain": [
       "      Batsman_name_W Batsman_nation_w Batsman_Rattings_w\n",
       "0        Lizelle Lee               SA                773\n",
       "1     Tammy Beaumont              ENG                765\n",
       "2        Meg Lanning              AUS                749\n",
       "3    Stafanie Taylor               WI                746\n",
       "4       Alyssa Healy              AUS                741\n",
       "5  Amy Satterthwaite               NZ                740\n",
       "6    Smriti Mandhana              IND                719\n",
       "7    Laura Wolvaardt               SA                699\n",
       "8        Mithali Raj              IND                693\n",
       "9       Ellyse Perry              AUS                691"
      ]
     },
     "execution_count": 15,
     "metadata": {},
     "output_type": "execute_result"
    }
   ],
   "source": [
    "ODI_TOP_10_Batsman_w"
   ]
  },
  {
   "cell_type": "code",
   "execution_count": 16,
   "metadata": {},
   "outputs": [
    {
     "data": {
      "text/html": [
       "<div>\n",
       "<style scoped>\n",
       "    .dataframe tbody tr th:only-of-type {\n",
       "        vertical-align: middle;\n",
       "    }\n",
       "\n",
       "    .dataframe tbody tr th {\n",
       "        vertical-align: top;\n",
       "    }\n",
       "\n",
       "    .dataframe thead th {\n",
       "        text-align: right;\n",
       "    }\n",
       "</style>\n",
       "<table border=\"1\" class=\"dataframe\">\n",
       "  <thead>\n",
       "    <tr style=\"text-align: right;\">\n",
       "      <th></th>\n",
       "      <th>allrounder_name_w</th>\n",
       "      <th>allrounder_nation_w</th>\n",
       "      <th>allrounder_Rattings_w</th>\n",
       "    </tr>\n",
       "  </thead>\n",
       "  <tbody>\n",
       "    <tr>\n",
       "      <th>0</th>\n",
       "      <td>Ellyse Perry</td>\n",
       "      <td>AUS</td>\n",
       "      <td>460</td>\n",
       "    </tr>\n",
       "    <tr>\n",
       "      <th>1</th>\n",
       "      <td>Stafanie Taylor</td>\n",
       "      <td>WI</td>\n",
       "      <td>410</td>\n",
       "    </tr>\n",
       "    <tr>\n",
       "      <th>2</th>\n",
       "      <td>Marizanne Kapp</td>\n",
       "      <td>SA</td>\n",
       "      <td>390</td>\n",
       "    </tr>\n",
       "    <tr>\n",
       "      <th>3</th>\n",
       "      <td>Deepti Sharma</td>\n",
       "      <td>IND</td>\n",
       "      <td>357</td>\n",
       "    </tr>\n",
       "    <tr>\n",
       "      <th>4</th>\n",
       "      <td>Natalie Sciver</td>\n",
       "      <td>ENG</td>\n",
       "      <td>349</td>\n",
       "    </tr>\n",
       "    <tr>\n",
       "      <th>5</th>\n",
       "      <td>Jess Jonassen</td>\n",
       "      <td>AUS</td>\n",
       "      <td>301</td>\n",
       "    </tr>\n",
       "    <tr>\n",
       "      <th>6</th>\n",
       "      <td>Sophie Devine</td>\n",
       "      <td>NZ</td>\n",
       "      <td>274</td>\n",
       "    </tr>\n",
       "    <tr>\n",
       "      <th>7</th>\n",
       "      <td>Dane van Niekerk</td>\n",
       "      <td>SA</td>\n",
       "      <td>252</td>\n",
       "    </tr>\n",
       "    <tr>\n",
       "      <th>8</th>\n",
       "      <td>Katherine Brunt</td>\n",
       "      <td>ENG</td>\n",
       "      <td>236</td>\n",
       "    </tr>\n",
       "    <tr>\n",
       "      <th>9</th>\n",
       "      <td>Ashleigh Gardner</td>\n",
       "      <td>AUS</td>\n",
       "      <td>223</td>\n",
       "    </tr>\n",
       "  </tbody>\n",
       "</table>\n",
       "</div>"
      ],
      "text/plain": [
       "  allrounder_name_w allrounder_nation_w allrounder_Rattings_w\n",
       "0      Ellyse Perry                 AUS                   460\n",
       "1   Stafanie Taylor                  WI                   410\n",
       "2    Marizanne Kapp                  SA                   390\n",
       "3     Deepti Sharma                 IND                   357\n",
       "4    Natalie Sciver                 ENG                   349\n",
       "5     Jess Jonassen                 AUS                   301\n",
       "6     Sophie Devine                  NZ                   274\n",
       "7  Dane van Niekerk                  SA                   252\n",
       "8   Katherine Brunt                 ENG                   236\n",
       "9  Ashleigh Gardner                 AUS                   223"
      ]
     },
     "execution_count": 16,
     "metadata": {},
     "output_type": "execute_result"
    }
   ],
   "source": [
    "ODI_TOP_10_allrounder_w"
   ]
  }
 ],
 "metadata": {
  "kernelspec": {
   "display_name": "Python 3",
   "language": "python",
   "name": "python3"
  },
  "language_info": {
   "codemirror_mode": {
    "name": "ipython",
    "version": 3
   },
   "file_extension": ".py",
   "mimetype": "text/x-python",
   "name": "python",
   "nbconvert_exporter": "python",
   "pygments_lexer": "ipython3",
   "version": "3.8.3"
  }
 },
 "nbformat": 4,
 "nbformat_minor": 4
}
